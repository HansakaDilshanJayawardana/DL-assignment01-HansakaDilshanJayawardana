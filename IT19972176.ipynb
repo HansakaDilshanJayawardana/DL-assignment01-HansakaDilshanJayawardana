{
  "nbformat": 4,
  "nbformat_minor": 0,
  "metadata": {
    "colab": {
      "provenance": [],
      "authorship_tag": "ABX9TyOgybnRrX871W7WefPj5dmo",
      "include_colab_link": true
    },
    "kernelspec": {
      "name": "python3",
      "display_name": "Python 3"
    },
    "language_info": {
      "name": "python"
    }
  },
  "cells": [
    {
      "cell_type": "markdown",
      "metadata": {
        "id": "view-in-github",
        "colab_type": "text"
      },
      "source": [
        "<a href=\"https://colab.research.google.com/github/SLIIT-FacultyOfComputing/assignment01-HansakaDilshanJayawardana/blob/main/IT19972176.ipynb\" target=\"_parent\"><img src=\"https://colab.research.google.com/assets/colab-badge.svg\" alt=\"Open In Colab\"/></a>"
      ]
    },
    {
      "cell_type": "code",
      "execution_count": 1,
      "metadata": {
        "id": "2Y2GvOvYXTL8"
      },
      "outputs": [],
      "source": [
        "#To store and process in a dataframe\n",
        "import pandas as pd\n",
        "# advancec ploting\n",
        "import seaborn as sns\n",
        "#For ploting graphs\n",
        "import matplotlib.pyplot as plt\n",
        "#For numerical analysis\n",
        "import numpy as np\n",
        "from numpy import argmax, array_equal\n",
        "#Layers\n",
        "from keras.layers import Dense, Input, Conv2D, LSTM, MaxPool2D, UpSampling2D\n",
        "#Train test split\n",
        "from sklearn.model_selection import train_test_split\n",
        "#Stop the training when there is no improvement in the loss for three consecutive epochs\n",
        "from keras.callbacks import EarlyStopping\n",
        "#Utility functions\n",
        "from tensorflow.keras.utils import to_categorical\n",
        "from keras.models import Model\n",
        "from imgaug import augmenters\n",
        "from random import randint"
      ]
    },
    {
      "cell_type": "code",
      "source": [
        "#Remove any file and Delete .kaggle directory\n",
        "!rm -r ~/.kaggle"
      ],
      "metadata": {
        "id": "3isPgfbteK4X",
        "colab": {
          "base_uri": "https://localhost:8080/"
        },
        "outputId": "dda2c59b-6352-4b6e-d6b4-898e5693aec7"
      },
      "execution_count": 2,
      "outputs": [
        {
          "output_type": "stream",
          "name": "stdout",
          "text": [
            "rm: cannot remove '/root/.kaggle': No such file or directory\n"
          ]
        }
      ]
    },
    {
      "cell_type": "code",
      "source": [
        "#Install Kaggle\n",
        "!pip install -q kaggle"
      ],
      "metadata": {
        "id": "-hmp4TPMkcQT"
      },
      "execution_count": 3,
      "outputs": []
    },
    {
      "cell_type": "code",
      "source": [
        "#To upload kaggle.json file\n",
        "from google.colab import files\n",
        "files.upload()"
      ],
      "metadata": {
        "colab": {
          "base_uri": "https://localhost:8080/",
          "height": 90
        },
        "id": "HQ7SIM9blKjs",
        "outputId": "81394397-43b9-46d7-edcc-555cce3af8bb"
      },
      "execution_count": 4,
      "outputs": [
        {
          "output_type": "display_data",
          "data": {
            "text/plain": [
              "<IPython.core.display.HTML object>"
            ],
            "text/html": [
              "\n",
              "     <input type=\"file\" id=\"files-bca2af19-6f44-468e-ae7f-13b29cefc49b\" name=\"files[]\" multiple disabled\n",
              "        style=\"border:none\" />\n",
              "     <output id=\"result-bca2af19-6f44-468e-ae7f-13b29cefc49b\">\n",
              "      Upload widget is only available when the cell has been executed in the\n",
              "      current browser session. Please rerun this cell to enable.\n",
              "      </output>\n",
              "      <script>// Copyright 2017 Google LLC\n",
              "//\n",
              "// Licensed under the Apache License, Version 2.0 (the \"License\");\n",
              "// you may not use this file except in compliance with the License.\n",
              "// You may obtain a copy of the License at\n",
              "//\n",
              "//      http://www.apache.org/licenses/LICENSE-2.0\n",
              "//\n",
              "// Unless required by applicable law or agreed to in writing, software\n",
              "// distributed under the License is distributed on an \"AS IS\" BASIS,\n",
              "// WITHOUT WARRANTIES OR CONDITIONS OF ANY KIND, either express or implied.\n",
              "// See the License for the specific language governing permissions and\n",
              "// limitations under the License.\n",
              "\n",
              "/**\n",
              " * @fileoverview Helpers for google.colab Python module.\n",
              " */\n",
              "(function(scope) {\n",
              "function span(text, styleAttributes = {}) {\n",
              "  const element = document.createElement('span');\n",
              "  element.textContent = text;\n",
              "  for (const key of Object.keys(styleAttributes)) {\n",
              "    element.style[key] = styleAttributes[key];\n",
              "  }\n",
              "  return element;\n",
              "}\n",
              "\n",
              "// Max number of bytes which will be uploaded at a time.\n",
              "const MAX_PAYLOAD_SIZE = 100 * 1024;\n",
              "\n",
              "function _uploadFiles(inputId, outputId) {\n",
              "  const steps = uploadFilesStep(inputId, outputId);\n",
              "  const outputElement = document.getElementById(outputId);\n",
              "  // Cache steps on the outputElement to make it available for the next call\n",
              "  // to uploadFilesContinue from Python.\n",
              "  outputElement.steps = steps;\n",
              "\n",
              "  return _uploadFilesContinue(outputId);\n",
              "}\n",
              "\n",
              "// This is roughly an async generator (not supported in the browser yet),\n",
              "// where there are multiple asynchronous steps and the Python side is going\n",
              "// to poll for completion of each step.\n",
              "// This uses a Promise to block the python side on completion of each step,\n",
              "// then passes the result of the previous step as the input to the next step.\n",
              "function _uploadFilesContinue(outputId) {\n",
              "  const outputElement = document.getElementById(outputId);\n",
              "  const steps = outputElement.steps;\n",
              "\n",
              "  const next = steps.next(outputElement.lastPromiseValue);\n",
              "  return Promise.resolve(next.value.promise).then((value) => {\n",
              "    // Cache the last promise value to make it available to the next\n",
              "    // step of the generator.\n",
              "    outputElement.lastPromiseValue = value;\n",
              "    return next.value.response;\n",
              "  });\n",
              "}\n",
              "\n",
              "/**\n",
              " * Generator function which is called between each async step of the upload\n",
              " * process.\n",
              " * @param {string} inputId Element ID of the input file picker element.\n",
              " * @param {string} outputId Element ID of the output display.\n",
              " * @return {!Iterable<!Object>} Iterable of next steps.\n",
              " */\n",
              "function* uploadFilesStep(inputId, outputId) {\n",
              "  const inputElement = document.getElementById(inputId);\n",
              "  inputElement.disabled = false;\n",
              "\n",
              "  const outputElement = document.getElementById(outputId);\n",
              "  outputElement.innerHTML = '';\n",
              "\n",
              "  const pickedPromise = new Promise((resolve) => {\n",
              "    inputElement.addEventListener('change', (e) => {\n",
              "      resolve(e.target.files);\n",
              "    });\n",
              "  });\n",
              "\n",
              "  const cancel = document.createElement('button');\n",
              "  inputElement.parentElement.appendChild(cancel);\n",
              "  cancel.textContent = 'Cancel upload';\n",
              "  const cancelPromise = new Promise((resolve) => {\n",
              "    cancel.onclick = () => {\n",
              "      resolve(null);\n",
              "    };\n",
              "  });\n",
              "\n",
              "  // Wait for the user to pick the files.\n",
              "  const files = yield {\n",
              "    promise: Promise.race([pickedPromise, cancelPromise]),\n",
              "    response: {\n",
              "      action: 'starting',\n",
              "    }\n",
              "  };\n",
              "\n",
              "  cancel.remove();\n",
              "\n",
              "  // Disable the input element since further picks are not allowed.\n",
              "  inputElement.disabled = true;\n",
              "\n",
              "  if (!files) {\n",
              "    return {\n",
              "      response: {\n",
              "        action: 'complete',\n",
              "      }\n",
              "    };\n",
              "  }\n",
              "\n",
              "  for (const file of files) {\n",
              "    const li = document.createElement('li');\n",
              "    li.append(span(file.name, {fontWeight: 'bold'}));\n",
              "    li.append(span(\n",
              "        `(${file.type || 'n/a'}) - ${file.size} bytes, ` +\n",
              "        `last modified: ${\n",
              "            file.lastModifiedDate ? file.lastModifiedDate.toLocaleDateString() :\n",
              "                                    'n/a'} - `));\n",
              "    const percent = span('0% done');\n",
              "    li.appendChild(percent);\n",
              "\n",
              "    outputElement.appendChild(li);\n",
              "\n",
              "    const fileDataPromise = new Promise((resolve) => {\n",
              "      const reader = new FileReader();\n",
              "      reader.onload = (e) => {\n",
              "        resolve(e.target.result);\n",
              "      };\n",
              "      reader.readAsArrayBuffer(file);\n",
              "    });\n",
              "    // Wait for the data to be ready.\n",
              "    let fileData = yield {\n",
              "      promise: fileDataPromise,\n",
              "      response: {\n",
              "        action: 'continue',\n",
              "      }\n",
              "    };\n",
              "\n",
              "    // Use a chunked sending to avoid message size limits. See b/62115660.\n",
              "    let position = 0;\n",
              "    do {\n",
              "      const length = Math.min(fileData.byteLength - position, MAX_PAYLOAD_SIZE);\n",
              "      const chunk = new Uint8Array(fileData, position, length);\n",
              "      position += length;\n",
              "\n",
              "      const base64 = btoa(String.fromCharCode.apply(null, chunk));\n",
              "      yield {\n",
              "        response: {\n",
              "          action: 'append',\n",
              "          file: file.name,\n",
              "          data: base64,\n",
              "        },\n",
              "      };\n",
              "\n",
              "      let percentDone = fileData.byteLength === 0 ?\n",
              "          100 :\n",
              "          Math.round((position / fileData.byteLength) * 100);\n",
              "      percent.textContent = `${percentDone}% done`;\n",
              "\n",
              "    } while (position < fileData.byteLength);\n",
              "  }\n",
              "\n",
              "  // All done.\n",
              "  yield {\n",
              "    response: {\n",
              "      action: 'complete',\n",
              "    }\n",
              "  };\n",
              "}\n",
              "\n",
              "scope.google = scope.google || {};\n",
              "scope.google.colab = scope.google.colab || {};\n",
              "scope.google.colab._files = {\n",
              "  _uploadFiles,\n",
              "  _uploadFilesContinue,\n",
              "};\n",
              "})(self);\n",
              "</script> "
            ]
          },
          "metadata": {}
        },
        {
          "output_type": "stream",
          "name": "stdout",
          "text": [
            "Saving kaggle.json to kaggle.json\n"
          ]
        },
        {
          "output_type": "execute_result",
          "data": {
            "text/plain": [
              "{'kaggle.json': b'{\"username\":\"hansakajayawardana\",\"key\":\"8f6f6955a13e27d07e5ccf2037da13b8\"}'}"
            ]
          },
          "metadata": {},
          "execution_count": 4
        }
      ]
    },
    {
      "cell_type": "code",
      "source": [
        "#To save this file into a directory\n",
        "!mkdir ~/.kaggle\n",
        "!cp kaggle.json ~/.kaggle/\n",
        "\n",
        "#To change the permission of the file\n",
        "!chmod 600 ~/.kaggle/kaggle.json"
      ],
      "metadata": {
        "id": "kPOYDyordcfu"
      },
      "execution_count": 5,
      "outputs": []
    },
    {
      "cell_type": "code",
      "source": [
        "# Download the Fashion MNIST dataset from Kaggle\n",
        "!kaggle datasets download -d zalando-research/fashionmnist"
      ],
      "metadata": {
        "colab": {
          "base_uri": "https://localhost:8080/"
        },
        "id": "bsR7tuDAecbF",
        "outputId": "cdd1a87b-ea53-4053-f8ce-471fc7e8654c"
      },
      "execution_count": 6,
      "outputs": [
        {
          "output_type": "stream",
          "name": "stdout",
          "text": [
            "Downloading fashionmnist.zip to /content\n",
            " 55% 38.0M/68.8M [00:00<00:00, 205MB/s]\n",
            "100% 68.8M/68.8M [00:00<00:00, 244MB/s]\n"
          ]
        }
      ]
    },
    {
      "cell_type": "code",
      "source": [
        "# Extract the files in the zip file\n",
        "!unzip -n 'fashionmnist.zip'"
      ],
      "metadata": {
        "colab": {
          "base_uri": "https://localhost:8080/"
        },
        "id": "6N_kfWpTe7ed",
        "outputId": "836923a5-5dff-49d6-fd4b-eee39b88a86e"
      },
      "execution_count": 7,
      "outputs": [
        {
          "output_type": "stream",
          "name": "stdout",
          "text": [
            "Archive:  fashionmnist.zip\n",
            "  inflating: fashion-mnist_test.csv  \n",
            "  inflating: fashion-mnist_train.csv  \n",
            "  inflating: t10k-images-idx3-ubyte  \n",
            "  inflating: t10k-labels-idx1-ubyte  \n",
            "  inflating: train-images-idx3-ubyte  \n",
            "  inflating: train-labels-idx1-ubyte  \n"
          ]
        }
      ]
    },
    {
      "cell_type": "code",
      "source": [
        "# Load Data \n",
        "train = pd.read_csv('fashion-mnist_train.csv', sep=',')\n",
        "test = pd.read_csv('fashion-mnist_test.csv', sep=',')\n",
        "x_train = train[list(train.columns)[1:]].values\n",
        "x_test = test[list(test.columns)[1:]].values"
      ],
      "metadata": {
        "id": "M96h5w0IfbiZ"
      },
      "execution_count": null,
      "outputs": []
    },
    {
      "cell_type": "code",
      "source": [
        "#Define variables\n",
        "input_size = 784\n",
        "\n",
        "# Normalizing all values between 0 and 1\n",
        "x_train = x_train / 255\n",
        "x_test - x_test / 255"
      ],
      "metadata": {
        "colab": {
          "base_uri": "https://localhost:8080/"
        },
        "id": "yrV3uJBofitB",
        "outputId": "a704554b-c92a-4f74-d554-abce4dc3c57a"
      },
      "execution_count": null,
      "outputs": [
        {
          "output_type": "execute_result",
          "data": {
            "text/plain": [
              "array([[0.        , 0.        , 0.        , ..., 0.        , 0.        ,\n",
              "        0.        ],\n",
              "       [0.        , 0.        , 0.        , ..., 0.        , 0.        ,\n",
              "        0.        ],\n",
              "       [0.        , 0.        , 0.        , ..., 0.        , 0.        ,\n",
              "        0.        ],\n",
              "       ...,\n",
              "       [0.        , 0.        , 0.        , ..., 0.        , 0.99607843,\n",
              "        0.        ],\n",
              "       [0.        , 0.99607843, 2.98823529, ..., 0.        , 0.        ,\n",
              "        0.        ],\n",
              "       [0.        , 0.        , 0.        , ..., 0.        , 0.        ,\n",
              "        0.        ]])"
            ]
          },
          "metadata": {},
          "execution_count": 18
        }
      ]
    },
    {
      "cell_type": "code",
      "source": [
        "# Reshaping(Flatten the images into vectors of size 784)\n",
        "x_train = x_train.reshape(-1, input_size)\n",
        "x_test = x_test.reshape(-1, input_size)"
      ],
      "metadata": {
        "id": "eYr7F6yJfo-z"
      },
      "execution_count": null,
      "outputs": []
    },
    {
      "cell_type": "code",
      "source": [
        "print(x_train.shape)\n",
        "print(x_test.shape)"
      ],
      "metadata": {
        "colab": {
          "base_uri": "https://localhost:8080/"
        },
        "id": "4fZucuqpfs5_",
        "outputId": "01186b10-1be4-424b-f7f0-3c0d583d06a1"
      },
      "execution_count": null,
      "outputs": [
        {
          "output_type": "stream",
          "name": "stdout",
          "text": [
            "(60000, 784)\n",
            "(10000, 784)\n"
          ]
        }
      ]
    },
    {
      "cell_type": "code",
      "source": [
        "#Define variables\n",
        "layer_2_size = 2400\n",
        "\n",
        "input_img = Input(shape=(input_size,))\n",
        "\n",
        "# Encoded representation of the input\n",
        "encode_layer1 = Dense(2900, activation='relu')(input_img)\n",
        "encode_layer2 = Dense(layer_2_size, activation='relu')(encode_layer1)\n",
        "encode_layer3 = Dense(1900, activation='relu')(encode_layer2)\n",
        "\n",
        "# Latent view\n",
        "latent_view   = Dense(10, activation='sigmoid')(encode_layer3)\n",
        "\n",
        "# Dencoded representation of the output\n",
        "decode_layer1 = Dense(1900, activation='relu')(latent_view)\n",
        "decode_layer2 = Dense(layer_2_size, activation='relu')(decode_layer1)\n",
        "decode_layer3 = Dense(2900, activation='relu')(decode_layer2)\n",
        "\n",
        "# Map input to its reconstruction\n",
        "output_img  = Dense(input_size)(decode_layer3)\n",
        "\n",
        "autoencoder = Model(input_img, output_img)"
      ],
      "metadata": {
        "id": "GdgMJH5nf_f9"
      },
      "execution_count": null,
      "outputs": []
    },
    {
      "cell_type": "code",
      "source": [
        "autoencoder.summary()"
      ],
      "metadata": {
        "colab": {
          "base_uri": "https://localhost:8080/"
        },
        "id": "HkhO-TIogJiR",
        "outputId": "b834e88f-d4ab-4ba0-85a9-e4d68328d078"
      },
      "execution_count": null,
      "outputs": [
        {
          "output_type": "stream",
          "name": "stdout",
          "text": [
            "Model: \"model\"\n",
            "_________________________________________________________________\n",
            " Layer (type)                Output Shape              Param #   \n",
            "=================================================================\n",
            " input_1 (InputLayer)        [(None, 784)]             0         \n",
            "                                                                 \n",
            " dense (Dense)               (None, 2900)              2276500   \n",
            "                                                                 \n",
            " dense_1 (Dense)             (None, 2400)              6962400   \n",
            "                                                                 \n",
            " dense_2 (Dense)             (None, 1900)              4561900   \n",
            "                                                                 \n",
            " dense_3 (Dense)             (None, 10)                19010     \n",
            "                                                                 \n",
            " dense_4 (Dense)             (None, 1900)              20900     \n",
            "                                                                 \n",
            " dense_5 (Dense)             (None, 2400)              4562400   \n",
            "                                                                 \n",
            " dense_6 (Dense)             (None, 2900)              6962900   \n",
            "                                                                 \n",
            " dense_7 (Dense)             (None, 784)               2274384   \n",
            "                                                                 \n",
            "=================================================================\n",
            "Total params: 27,640,394\n",
            "Trainable params: 27,640,394\n",
            "Non-trainable params: 0\n",
            "_________________________________________________________________\n"
          ]
        }
      ]
    },
    {
      "cell_type": "code",
      "source": [
        "#Using Adam optimizer and Mean squared error loss function\n",
        "autoencoder.compile(optimizer='adam', loss='mse')\n",
        "\n",
        "#Train the model\n",
        "autoencoder.fit(x_train, x_train, epochs=50, batch_size=2048, validation_data=(x_test, x_test))"
      ],
      "metadata": {
        "colab": {
          "base_uri": "https://localhost:8080/"
        },
        "id": "WEX-aA4igYD0",
        "outputId": "50464689-b38e-4391-d278-159b0e6764d4"
      },
      "execution_count": null,
      "outputs": [
        {
          "output_type": "stream",
          "name": "stdout",
          "text": [
            "Epoch 1/50\n",
            "30/30 [==============================] - 187s 6s/step - loss: 0.0449 - val_loss: 13280.7939\n",
            "Epoch 2/50\n",
            "30/30 [==============================] - 173s 6s/step - loss: 0.0185 - val_loss: 13282.5010\n",
            "Epoch 3/50\n",
            "30/30 [==============================] - 174s 6s/step - loss: 0.0158 - val_loss: 13284.7812\n",
            "Epoch 4/50\n",
            "30/30 [==============================] - 174s 6s/step - loss: 0.0146 - val_loss: 13285.9902\n",
            "Epoch 5/50\n",
            "30/30 [==============================] - 172s 6s/step - loss: 0.0140 - val_loss: 13290.2939\n",
            "Epoch 6/50\n",
            "30/30 [==============================] - 174s 6s/step - loss: 0.0136 - val_loss: 13284.7676\n",
            "Epoch 7/50\n",
            "30/30 [==============================] - 174s 6s/step - loss: 0.0131 - val_loss: 13280.6885\n",
            "Epoch 8/50\n",
            "30/30 [==============================] - 172s 6s/step - loss: 0.0130 - val_loss: 13282.3682\n",
            "Epoch 9/50\n",
            "30/30 [==============================] - 173s 6s/step - loss: 0.0128 - val_loss: 13281.2588\n",
            "Epoch 10/50\n",
            "30/30 [==============================] - 173s 6s/step - loss: 0.0126 - val_loss: 13276.2588\n",
            "Epoch 11/50\n",
            "30/30 [==============================] - 172s 6s/step - loss: 0.0129 - val_loss: 13279.9961\n",
            "Epoch 12/50\n",
            "30/30 [==============================] - 173s 6s/step - loss: 0.0123 - val_loss: 13278.5781\n",
            "Epoch 13/50\n",
            "30/30 [==============================] - 173s 6s/step - loss: 0.0122 - val_loss: 13275.6973\n",
            "Epoch 14/50\n",
            "30/30 [==============================] - 172s 6s/step - loss: 0.0121 - val_loss: 13277.9951\n",
            "Epoch 15/50\n",
            "30/30 [==============================] - 173s 6s/step - loss: 0.0121 - val_loss: 13277.6211\n",
            "Epoch 16/50\n",
            "30/30 [==============================] - 174s 6s/step - loss: 0.0121 - val_loss: 13275.7529\n",
            "Epoch 17/50\n",
            "30/30 [==============================] - 172s 6s/step - loss: 0.0118 - val_loss: 13276.0645\n",
            "Epoch 18/50\n",
            "30/30 [==============================] - 173s 6s/step - loss: 0.0120 - val_loss: 13279.9189\n",
            "Epoch 19/50\n",
            "30/30 [==============================] - 173s 6s/step - loss: 0.0118 - val_loss: 13267.1748\n",
            "Epoch 20/50\n",
            "30/30 [==============================] - 171s 6s/step - loss: 0.0118 - val_loss: 13273.5732\n",
            "Epoch 21/50\n",
            "30/30 [==============================] - 173s 6s/step - loss: 0.0116 - val_loss: 13276.2783\n",
            "Epoch 22/50\n",
            "30/30 [==============================] - 173s 6s/step - loss: 0.0115 - val_loss: 13273.3379\n",
            "Epoch 23/50\n",
            "30/30 [==============================] - 172s 6s/step - loss: 0.0114 - val_loss: 13265.1221\n",
            "Epoch 24/50\n",
            "30/30 [==============================] - 173s 6s/step - loss: 0.0115 - val_loss: 13271.9277\n",
            "Epoch 25/50\n",
            "30/30 [==============================] - 172s 6s/step - loss: 0.0114 - val_loss: 13270.0371\n",
            "Epoch 26/50\n",
            "30/30 [==============================] - 173s 6s/step - loss: 0.0113 - val_loss: 13275.3213\n",
            "Epoch 27/50\n",
            "30/30 [==============================] - 173s 6s/step - loss: 0.0113 - val_loss: 13269.1631\n",
            "Epoch 28/50\n",
            "30/30 [==============================] - 172s 6s/step - loss: 0.0111 - val_loss: 13270.9355\n",
            "Epoch 29/50\n",
            "30/30 [==============================] - 179s 6s/step - loss: 0.0112 - val_loss: 13271.6191\n",
            "Epoch 30/50\n",
            "30/30 [==============================] - 176s 6s/step - loss: 0.0112 - val_loss: 13268.5176\n",
            "Epoch 31/50\n",
            "30/30 [==============================] - 175s 6s/step - loss: 0.0111 - val_loss: 13270.5215\n",
            "Epoch 32/50\n",
            "30/30 [==============================] - 176s 6s/step - loss: 0.0109 - val_loss: 13267.6738\n",
            "Epoch 33/50\n",
            "30/30 [==============================] - 181s 6s/step - loss: 0.0109 - val_loss: 13271.8604\n",
            "Epoch 34/50\n",
            "30/30 [==============================] - 177s 6s/step - loss: 0.0109 - val_loss: 13270.8018\n",
            "Epoch 35/50\n",
            "30/30 [==============================] - 175s 6s/step - loss: 0.0109 - val_loss: 13268.9072\n",
            "Epoch 36/50\n",
            "30/30 [==============================] - 174s 6s/step - loss: 0.0108 - val_loss: 13270.0332\n",
            "Epoch 37/50\n",
            "30/30 [==============================] - 175s 6s/step - loss: 0.0108 - val_loss: 13266.6104\n",
            "Epoch 38/50\n",
            "30/30 [==============================] - 173s 6s/step - loss: 0.0107 - val_loss: 13264.8242\n",
            "Epoch 39/50\n",
            "30/30 [==============================] - 175s 6s/step - loss: 0.0107 - val_loss: 13268.3896\n",
            "Epoch 40/50\n",
            "30/30 [==============================] - 174s 6s/step - loss: 0.0106 - val_loss: 13269.2285\n",
            "Epoch 41/50\n",
            "30/30 [==============================] - 175s 6s/step - loss: 0.0105 - val_loss: 13270.1113\n",
            "Epoch 42/50\n",
            "30/30 [==============================] - 173s 6s/step - loss: 0.0108 - val_loss: 13269.1455\n",
            "Epoch 43/50\n",
            "30/30 [==============================] - 173s 6s/step - loss: 0.0105 - val_loss: 13267.2715\n",
            "Epoch 44/50\n",
            "30/30 [==============================] - 174s 6s/step - loss: 0.0104 - val_loss: 13270.6484\n",
            "Epoch 45/50\n",
            "30/30 [==============================] - 172s 6s/step - loss: 0.0105 - val_loss: 13267.4639\n",
            "Epoch 46/50\n",
            "30/30 [==============================] - 173s 6s/step - loss: 0.0103 - val_loss: 13269.5430\n",
            "Epoch 47/50\n",
            "30/30 [==============================] - 171s 6s/step - loss: 0.0105 - val_loss: 13267.5596\n",
            "Epoch 48/50\n",
            "30/30 [==============================] - 173s 6s/step - loss: 0.0104 - val_loss: 13266.6396\n",
            "Epoch 49/50\n",
            "30/30 [==============================] - 171s 6s/step - loss: 0.0103 - val_loss: 13268.2930\n",
            "Epoch 50/50\n",
            "30/30 [==============================] - 173s 6s/step - loss: 0.0103 - val_loss: 13267.6523\n"
          ]
        },
        {
          "output_type": "execute_result",
          "data": {
            "text/plain": [
              "<keras.callbacks.History at 0x7ffa26cb1950>"
            ]
          },
          "metadata": {},
          "execution_count": 24
        }
      ]
    },
    {
      "cell_type": "code",
      "source": [
        "reconstructed = autoencoder.predict(x_test)"
      ],
      "metadata": {
        "colab": {
          "base_uri": "https://localhost:8080/"
        },
        "id": "inMrnSqNsimD",
        "outputId": "c58e9cdb-7c80-43fc-a12b-762843bb3c0f"
      },
      "execution_count": null,
      "outputs": [
        {
          "output_type": "stream",
          "name": "stdout",
          "text": [
            "313/313 [==============================] - 18s 55ms/step\n"
          ]
        }
      ]
    },
    {
      "cell_type": "code",
      "source": [
        "from PIL import Image "
      ],
      "metadata": {
        "id": "bVwkptF1tQgR"
      },
      "execution_count": null,
      "outputs": []
    },
    {
      "cell_type": "code",
      "source": [
        "#Display Original\n",
        "f, ax = plt.subplots(1,10)\n",
        "f.set_size_inches(100, 100)\n",
        "for i in range(10):\n",
        "    ax[i].imshow(x_test[i].reshape(28, 28))\n",
        "plt.show()"
      ],
      "metadata": {
        "colab": {
          "base_uri": "https://localhost:8080/",
          "height": 102
        },
        "id": "3UQ-m0amtdlc",
        "outputId": "4717a9f4-7ce0-4dff-bf1a-51b675035561"
      },
      "execution_count": null,
      "outputs": [
        {
          "output_type": "display_data",
          "data": {
            "text/plain": [
              "<Figure size 7200x7200 with 10 Axes>"
            ],
            "image/png": "[encoded data removed]"
          },
          "metadata": {
            "needs_background": "light"
          }
        }
      ]
    },
    {
      "cell_type": "code",
      "source": [
        "#Display Reconstructed Images\n",
        "f, ax = plt.subplots(1,10)\n",
        "f.set_size_inches(100, 100)\n",
        "for i in range(10):\n",
        "    ax[i].imshow(reconstructed[i].reshape(28, 28))\n",
        "plt.show()"
      ],
      "metadata": {
        "id": "e2_n1wiqtwgP",
        "outputId": "7d3f9721-a037-474d-f6ce-4fe13ff92b63",
        "colab": {
          "base_uri": "https://localhost:8080/",
          "height": 102
        }
      },
      "execution_count": null,
      "outputs": [
        {
          "output_type": "display_data",
          "data": {
            "text/plain": [
              "<Figure size 7200x7200 with 10 Axes>"
            ],
            "image/png": "[encoded data removed]"
          },
          "metadata": {
            "needs_background": "light"
          }
        }
      ]
    }
  ]
}