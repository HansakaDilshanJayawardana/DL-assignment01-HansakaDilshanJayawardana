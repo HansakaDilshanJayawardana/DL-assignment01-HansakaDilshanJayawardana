{
  "nbformat": 4,
  "nbformat_minor": 0,
  "metadata": {
    "colab": {
      "provenance": [],
      "authorship_tag": "ABX9TyPNnqspzqpKwNLpvUW0yf05",
      "include_colab_link": true
    },
    "kernelspec": {
      "name": "python3",
      "display_name": "Python 3"
    },
    "language_info": {
      "name": "python"
    }
  },
  "cells": [
    {
      "cell_type": "markdown",
      "metadata": {
        "id": "view-in-github",
        "colab_type": "text"
      },
      "source": [
        "<a href=\"https://colab.research.google.com/github/SLIIT-FacultyOfComputing/assignment01-HansakaDilshanJayawardana/blob/main/IT19972176.ipynb\" target=\"_parent\"><img src=\"https://colab.research.google.com/assets/colab-badge.svg\" alt=\"Open In Colab\"/></a>"
      ]
    },
    {
      "cell_type": "code",
      "execution_count": 9,
      "metadata": {
        "id": "2Y2GvOvYXTL8"
      },
      "outputs": [],
      "source": [
        "from keras.layers import Dense, Input, Conv2D, LSTM, MaxPool2D, UpSampling2D\n",
        "from sklearn.model_selection import train_test_split\n",
        "from keras.callbacks import EarlyStopping\n",
        "from tensorflow.keras.utils import to_categorical\n",
        "from numpy import argmax, array_equal\n",
        "import matplotlib.pyplot as plt\n",
        "from keras.models import Model\n",
        "from imgaug import augmenters\n",
        "from random import randint\n",
        "import pandas as pd\n",
        "import numpy as np"
      ]
    },
    {
      "cell_type": "code",
      "source": [
        "# Removes any file and Delete .kaggle directory\n",
        "!rm -r ~/.kaggle"
      ],
      "metadata": {
        "id": "3isPgfbteK4X"
      },
      "execution_count": 13,
      "outputs": []
    },
    {
      "cell_type": "code",
      "source": [
        "# Setup Kaggle in the Google Colab to download the dataset\n",
        "!mkdir ~/.kaggle\n",
        "!touch ~/.kaggle/kaggle.json\n",
        "\n",
        "{\"username\":\"hansakajayawardana\",\"key\":\"61331966b9f0c2f5eac57d9a702ef537\"}\n",
        "\n",
        "import json\n",
        "\n",
        "with open('/root/.kaggle/kaggle.json', 'w') as file:\n",
        "    json.dump(api_token, file)\n",
        "\n",
        "!chmod 600 ~/.kaggle/kaggle.json"
      ],
      "metadata": {
        "id": "kPOYDyordcfu"
      },
      "execution_count": 14,
      "outputs": []
    },
    {
      "cell_type": "code",
      "source": [
        "# Download the Fashion MNIST dataset from\n",
        "!kaggle datasets download -d zalando-research/fashionmnist"
      ],
      "metadata": {
        "colab": {
          "base_uri": "https://localhost:8080/"
        },
        "id": "bsR7tuDAecbF",
        "outputId": "8ead3157-3ded-41ad-a5e6-51fad40cea93"
      },
      "execution_count": 15,
      "outputs": [
        {
          "output_type": "stream",
          "name": "stdout",
          "text": [
            "fashionmnist.zip: Skipping, found more recently modified local copy (use --force to force download)\n"
          ]
        }
      ]
    },
    {
      "cell_type": "code",
      "source": [
        "# Extract the files in the zip file\n",
        "!unzip -n 'fashionmnist.zip'"
      ],
      "metadata": {
        "colab": {
          "base_uri": "https://localhost:8080/"
        },
        "id": "6N_kfWpTe7ed",
        "outputId": "949eb868-094b-4d95-9a9f-7464ae71c97f"
      },
      "execution_count": 16,
      "outputs": [
        {
          "output_type": "stream",
          "name": "stdout",
          "text": [
            "Archive:  fashionmnist.zip\n",
            "  inflating: fashion-mnist_test.csv  \n",
            "  inflating: fashion-mnist_train.csv  \n",
            "  inflating: t10k-images-idx3-ubyte  \n",
            "  inflating: t10k-labels-idx1-ubyte  \n",
            "  inflating: train-images-idx3-ubyte  \n",
            "  inflating: train-labels-idx1-ubyte  \n"
          ]
        }
      ]
    },
    {
      "cell_type": "code",
      "source": [
        "# Load Data \n",
        "train = pd.read_csv('fashion-mnist_train.csv', sep=',')\n",
        "test = pd.read_csv('fashion-mnist_test.csv', sep=',')\n",
        "x_train = train[list(train.columns)[1:]].values\n",
        "x_test = test[list(test.columns)[1:]].values"
      ],
      "metadata": {
        "id": "M96h5w0IfbiZ"
      },
      "execution_count": 17,
      "outputs": []
    },
    {
      "cell_type": "code",
      "source": [
        "#Define variables\n",
        "input_size = 784\n",
        "\n",
        "# Normalizing all values between 0 and 1\n",
        "x_train = x_train / 255\n",
        "x_test - x_test / 255"
      ],
      "metadata": {
        "colab": {
          "base_uri": "https://localhost:8080/"
        },
        "id": "yrV3uJBofitB",
        "outputId": "a704554b-c92a-4f74-d554-abce4dc3c57a"
      },
      "execution_count": 18,
      "outputs": [
        {
          "output_type": "execute_result",
          "data": {
            "text/plain": [
              "array([[0.        , 0.        , 0.        , ..., 0.        , 0.        ,\n",
              "        0.        ],\n",
              "       [0.        , 0.        , 0.        , ..., 0.        , 0.        ,\n",
              "        0.        ],\n",
              "       [0.        , 0.        , 0.        , ..., 0.        , 0.        ,\n",
              "        0.        ],\n",
              "       ...,\n",
              "       [0.        , 0.        , 0.        , ..., 0.        , 0.99607843,\n",
              "        0.        ],\n",
              "       [0.        , 0.99607843, 2.98823529, ..., 0.        , 0.        ,\n",
              "        0.        ],\n",
              "       [0.        , 0.        , 0.        , ..., 0.        , 0.        ,\n",
              "        0.        ]])"
            ]
          },
          "metadata": {},
          "execution_count": 18
        }
      ]
    },
    {
      "cell_type": "code",
      "source": [
        "# Reshaping(Flatten the images into vectors of size 784)\n",
        "x_train = x_train.reshape(-1, input_size)\n",
        "x_test = x_test.reshape(-1, input_size)"
      ],
      "metadata": {
        "id": "eYr7F6yJfo-z"
      },
      "execution_count": 19,
      "outputs": []
    },
    {
      "cell_type": "code",
      "source": [
        "print(x_train.shape)\n",
        "print(x_test.shape)"
      ],
      "metadata": {
        "colab": {
          "base_uri": "https://localhost:8080/"
        },
        "id": "4fZucuqpfs5_",
        "outputId": "01186b10-1be4-424b-f7f0-3c0d583d06a1"
      },
      "execution_count": 20,
      "outputs": [
        {
          "output_type": "stream",
          "name": "stdout",
          "text": [
            "(60000, 784)\n",
            "(10000, 784)\n"
          ]
        }
      ]
    },
    {
      "cell_type": "code",
      "source": [
        "#Define variables\n",
        "layer_2_size = 2400\n",
        "\n",
        "input_img = Input(shape=(input_size,))\n",
        "\n",
        "# Encoded representation of the input\n",
        "encode_layer1 = Dense(2900, activation='relu')(input_img)\n",
        "encode_layer2 = Dense(layer_2_size, activation='relu')(encode_layer1)\n",
        "encode_layer3 = Dense(1900, activation='relu')(encode_layer2)\n",
        "\n",
        "# Latent view\n",
        "latent_view   = Dense(10, activation='sigmoid')(encode_layer3)\n",
        "\n",
        "# Dencoded representation of the output\n",
        "decode_layer1 = Dense(1900, activation='relu')(latent_view)\n",
        "decode_layer2 = Dense(layer_2_size, activation='relu')(decode_layer1)\n",
        "decode_layer3 = Dense(2900, activation='relu')(decode_layer2)\n",
        "\n",
        "# Map input to its reconstruction\n",
        "output_img  = Dense(input_size)(decode_layer3)\n",
        "\n",
        "autoencoder = Model(input_img, output_img)"
      ],
      "metadata": {
        "id": "GdgMJH5nf_f9"
      },
      "execution_count": 21,
      "outputs": []
    },
    {
      "cell_type": "code",
      "source": [
        "autoencoder.summary()"
      ],
      "metadata": {
        "colab": {
          "base_uri": "https://localhost:8080/"
        },
        "id": "HkhO-TIogJiR",
        "outputId": "b834e88f-d4ab-4ba0-85a9-e4d68328d078"
      },
      "execution_count": 22,
      "outputs": [
        {
          "output_type": "stream",
          "name": "stdout",
          "text": [
            "Model: \"model\"\n",
            "_________________________________________________________________\n",
            " Layer (type)                Output Shape              Param #   \n",
            "=================================================================\n",
            " input_1 (InputLayer)        [(None, 784)]             0         \n",
            "                                                                 \n",
            " dense (Dense)               (None, 2900)              2276500   \n",
            "                                                                 \n",
            " dense_1 (Dense)             (None, 2400)              6962400   \n",
            "                                                                 \n",
            " dense_2 (Dense)             (None, 1900)              4561900   \n",
            "                                                                 \n",
            " dense_3 (Dense)             (None, 10)                19010     \n",
            "                                                                 \n",
            " dense_4 (Dense)             (None, 1900)              20900     \n",
            "                                                                 \n",
            " dense_5 (Dense)             (None, 2400)              4562400   \n",
            "                                                                 \n",
            " dense_6 (Dense)             (None, 2900)              6962900   \n",
            "                                                                 \n",
            " dense_7 (Dense)             (None, 784)               2274384   \n",
            "                                                                 \n",
            "=================================================================\n",
            "Total params: 27,640,394\n",
            "Trainable params: 27,640,394\n",
            "Non-trainable params: 0\n",
            "_________________________________________________________________\n"
          ]
        }
      ]
    },
    {
      "cell_type": "code",
      "source": [
        "#Using Adam optimizer and Mean squared error loss function\n",
        "autoencoder.compile(optimizer='adam', loss='mse')\n",
        "\n",
        "#Train the model\n",
        "autoencoder.fit(x_train, x_train, epochs=50, batch_size=2048, validation_data=(x_test, x_test))"
      ],
      "metadata": {
        "colab": {
          "base_uri": "https://localhost:8080/"
        },
        "id": "WEX-aA4igYD0",
        "outputId": "50464689-b38e-4391-d278-159b0e6764d4"
      },
      "execution_count": 24,
      "outputs": [
        {
          "output_type": "stream",
          "name": "stdout",
          "text": [
            "Epoch 1/50\n",
            "30/30 [==============================] - 187s 6s/step - loss: 0.0449 - val_loss: 13280.7939\n",
            "Epoch 2/50\n",
            "30/30 [==============================] - 173s 6s/step - loss: 0.0185 - val_loss: 13282.5010\n",
            "Epoch 3/50\n",
            "30/30 [==============================] - 174s 6s/step - loss: 0.0158 - val_loss: 13284.7812\n",
            "Epoch 4/50\n",
            "30/30 [==============================] - 174s 6s/step - loss: 0.0146 - val_loss: 13285.9902\n",
            "Epoch 5/50\n",
            "30/30 [==============================] - 172s 6s/step - loss: 0.0140 - val_loss: 13290.2939\n",
            "Epoch 6/50\n",
            "30/30 [==============================] - 174s 6s/step - loss: 0.0136 - val_loss: 13284.7676\n",
            "Epoch 7/50\n",
            "30/30 [==============================] - 174s 6s/step - loss: 0.0131 - val_loss: 13280.6885\n",
            "Epoch 8/50\n",
            "30/30 [==============================] - 172s 6s/step - loss: 0.0130 - val_loss: 13282.3682\n",
            "Epoch 9/50\n",
            "30/30 [==============================] - 173s 6s/step - loss: 0.0128 - val_loss: 13281.2588\n",
            "Epoch 10/50\n",
            "30/30 [==============================] - 173s 6s/step - loss: 0.0126 - val_loss: 13276.2588\n",
            "Epoch 11/50\n",
            "30/30 [==============================] - 172s 6s/step - loss: 0.0129 - val_loss: 13279.9961\n",
            "Epoch 12/50\n",
            "30/30 [==============================] - 173s 6s/step - loss: 0.0123 - val_loss: 13278.5781\n",
            "Epoch 13/50\n",
            "30/30 [==============================] - 173s 6s/step - loss: 0.0122 - val_loss: 13275.6973\n",
            "Epoch 14/50\n",
            "30/30 [==============================] - 172s 6s/step - loss: 0.0121 - val_loss: 13277.9951\n",
            "Epoch 15/50\n",
            "30/30 [==============================] - 173s 6s/step - loss: 0.0121 - val_loss: 13277.6211\n",
            "Epoch 16/50\n",
            "30/30 [==============================] - 174s 6s/step - loss: 0.0121 - val_loss: 13275.7529\n",
            "Epoch 17/50\n",
            "30/30 [==============================] - 172s 6s/step - loss: 0.0118 - val_loss: 13276.0645\n",
            "Epoch 18/50\n",
            "30/30 [==============================] - 173s 6s/step - loss: 0.0120 - val_loss: 13279.9189\n",
            "Epoch 19/50\n",
            "30/30 [==============================] - 173s 6s/step - loss: 0.0118 - val_loss: 13267.1748\n",
            "Epoch 20/50\n",
            "30/30 [==============================] - 171s 6s/step - loss: 0.0118 - val_loss: 13273.5732\n",
            "Epoch 21/50\n",
            "30/30 [==============================] - 173s 6s/step - loss: 0.0116 - val_loss: 13276.2783\n",
            "Epoch 22/50\n",
            "30/30 [==============================] - 173s 6s/step - loss: 0.0115 - val_loss: 13273.3379\n",
            "Epoch 23/50\n",
            "30/30 [==============================] - 172s 6s/step - loss: 0.0114 - val_loss: 13265.1221\n",
            "Epoch 24/50\n",
            "30/30 [==============================] - 173s 6s/step - loss: 0.0115 - val_loss: 13271.9277\n",
            "Epoch 25/50\n",
            "30/30 [==============================] - 172s 6s/step - loss: 0.0114 - val_loss: 13270.0371\n",
            "Epoch 26/50\n",
            "30/30 [==============================] - 173s 6s/step - loss: 0.0113 - val_loss: 13275.3213\n",
            "Epoch 27/50\n",
            "30/30 [==============================] - 173s 6s/step - loss: 0.0113 - val_loss: 13269.1631\n",
            "Epoch 28/50\n",
            "30/30 [==============================] - 172s 6s/step - loss: 0.0111 - val_loss: 13270.9355\n",
            "Epoch 29/50\n",
            "30/30 [==============================] - 179s 6s/step - loss: 0.0112 - val_loss: 13271.6191\n",
            "Epoch 30/50\n",
            "30/30 [==============================] - 176s 6s/step - loss: 0.0112 - val_loss: 13268.5176\n",
            "Epoch 31/50\n",
            "30/30 [==============================] - 175s 6s/step - loss: 0.0111 - val_loss: 13270.5215\n",
            "Epoch 32/50\n",
            "30/30 [==============================] - 176s 6s/step - loss: 0.0109 - val_loss: 13267.6738\n",
            "Epoch 33/50\n",
            "30/30 [==============================] - 181s 6s/step - loss: 0.0109 - val_loss: 13271.8604\n",
            "Epoch 34/50\n",
            "30/30 [==============================] - 177s 6s/step - loss: 0.0109 - val_loss: 13270.8018\n",
            "Epoch 35/50\n",
            "30/30 [==============================] - 175s 6s/step - loss: 0.0109 - val_loss: 13268.9072\n",
            "Epoch 36/50\n",
            "30/30 [==============================] - 174s 6s/step - loss: 0.0108 - val_loss: 13270.0332\n",
            "Epoch 37/50\n",
            "30/30 [==============================] - 175s 6s/step - loss: 0.0108 - val_loss: 13266.6104\n",
            "Epoch 38/50\n",
            "30/30 [==============================] - 173s 6s/step - loss: 0.0107 - val_loss: 13264.8242\n",
            "Epoch 39/50\n",
            "30/30 [==============================] - 175s 6s/step - loss: 0.0107 - val_loss: 13268.3896\n",
            "Epoch 40/50\n",
            "30/30 [==============================] - 174s 6s/step - loss: 0.0106 - val_loss: 13269.2285\n",
            "Epoch 41/50\n",
            "30/30 [==============================] - 175s 6s/step - loss: 0.0105 - val_loss: 13270.1113\n",
            "Epoch 42/50\n",
            "30/30 [==============================] - 173s 6s/step - loss: 0.0108 - val_loss: 13269.1455\n",
            "Epoch 43/50\n",
            "30/30 [==============================] - 173s 6s/step - loss: 0.0105 - val_loss: 13267.2715\n",
            "Epoch 44/50\n",
            "30/30 [==============================] - 174s 6s/step - loss: 0.0104 - val_loss: 13270.6484\n",
            "Epoch 45/50\n",
            "30/30 [==============================] - 172s 6s/step - loss: 0.0105 - val_loss: 13267.4639\n",
            "Epoch 46/50\n",
            "30/30 [==============================] - 173s 6s/step - loss: 0.0103 - val_loss: 13269.5430\n",
            "Epoch 47/50\n",
            "30/30 [==============================] - 171s 6s/step - loss: 0.0105 - val_loss: 13267.5596\n",
            "Epoch 48/50\n",
            "30/30 [==============================] - 173s 6s/step - loss: 0.0104 - val_loss: 13266.6396\n",
            "Epoch 49/50\n",
            "30/30 [==============================] - 171s 6s/step - loss: 0.0103 - val_loss: 13268.2930\n",
            "Epoch 50/50\n",
            "30/30 [==============================] - 173s 6s/step - loss: 0.0103 - val_loss: 13267.6523\n"
          ]
        },
        {
          "output_type": "execute_result",
          "data": {
            "text/plain": [
              "<keras.callbacks.History at 0x7ffa26cb1950>"
            ]
          },
          "metadata": {},
          "execution_count": 24
        }
      ]
    },
    {
      "cell_type": "code",
      "source": [
        "reconstructed = autoencoder.predict(x_test)"
      ],
      "metadata": {
        "colab": {
          "base_uri": "https://localhost:8080/"
        },
        "id": "inMrnSqNsimD",
        "outputId": "c58e9cdb-7c80-43fc-a12b-762843bb3c0f"
      },
      "execution_count": 25,
      "outputs": [
        {
          "output_type": "stream",
          "name": "stdout",
          "text": [
            "313/313 [==============================] - 18s 55ms/step\n"
          ]
        }
      ]
    },
    {
      "cell_type": "code",
      "source": [
        "from PIL import Image "
      ],
      "metadata": {
        "id": "bVwkptF1tQgR"
      },
      "execution_count": 26,
      "outputs": []
    }
  ]
}